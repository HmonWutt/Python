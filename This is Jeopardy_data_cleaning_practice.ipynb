{
 "cells": [
  {
   "cell_type": "markdown",
   "metadata": {},
   "source": [
    "# This is Jeopardy!"
   ]
  },
  {
   "cell_type": "markdown",
   "metadata": {},
   "source": [
    "#### Overview"
   ]
  },
  {
   "cell_type": "markdown",
   "metadata": {},
   "source": [
    "This project is slightly different than others you have encountered thus far. Instead of a step-by-step tutorial, this project contains a series of open-ended requirements which describe the project you'll be building. There are many possible ways to correctly fulfill all of these requirements, and you should expect to use the internet, Codecademy, and/or other resources when you encounter a problem that you cannot easily solve."
   ]
  },
  {
   "cell_type": "markdown",
   "metadata": {},
   "source": [
    "#### Project Goals"
   ]
  },
  {
   "cell_type": "markdown",
   "metadata": {},
   "source": [
    "You will work to write several functions that investigate a dataset of _Jeopardy!_ questions and answers. Filter the dataset for topics that you're interested in, compute the average difficulty of those questions, and train to become the next Jeopardy champion!"
   ]
  },
  {
   "cell_type": "markdown",
   "metadata": {},
   "source": [
    "## Prerequisites"
   ]
  },
  {
   "cell_type": "markdown",
   "metadata": {},
   "source": [
    "In order to complete this project, you should have completed the Pandas lessons in the <a href=\"https://www.codecademy.com/learn/paths/analyze-data-with-python\">Analyze Data with Python Skill Path</a>. You can also find those lessons in the <a href=\"https://www.codecademy.com/learn/data-processing-pandas\">Data Analysis with Pandas course</a> or the <a href=\"https://www.codecademy.com/learn/paths/data-science/\">Data Scientist Career Path</a>.\n",
    "\n",
    "Finally, the <a href=\"https://www.codecademy.com/learn/practical-data-cleaning\">Practical Data Cleaning</a> course may also be helpful."
   ]
  },
  {
   "cell_type": "markdown",
   "metadata": {},
   "source": [
    "## Project Requirements"
   ]
  },
  {
   "cell_type": "markdown",
   "metadata": {},
   "source": [
    "1. We've provided a csv file containing data about the game show _Jeopardy!_ in a file named `jeopardy.csv`. Load the data into a DataFrame and investigate its contents. Try to print out specific columns.\n",
    "\n",
    "   Note that in order to make this project as \"real-world\" as possible, we haven't modified the data at all - we're giving it to you exactly how we found it. As a result, this data isn't as \"clean\" as the datasets you normally find on Codecademy. More specifically, there's something odd about the column names. After you figure out the problem with the column names, you may want to rename them to make your life easier for the rest of the project.\n",
    "   \n",
    "   In order to display the full contents of a column, we've added this line of code for you:\n",
    "   \n",
    "   ```py\n",
    "   pd.set_option('display.max_colwidth', None)\n",
    "   ```"
   ]
  },
  {
   "cell_type": "code",
   "execution_count": 420,
   "metadata": {},
   "outputs": [
    {
     "name": "stdout",
     "output_type": "stream",
     "text": [
      "0                Jeopardy!\n",
      "1                Jeopardy!\n",
      "2                Jeopardy!\n",
      "3                Jeopardy!\n",
      "4                Jeopardy!\n",
      "                ...       \n",
      "216925    Double Jeopardy!\n",
      "216926    Double Jeopardy!\n",
      "216927    Double Jeopardy!\n",
      "216928    Double Jeopardy!\n",
      "216929     Final Jeopardy!\n",
      "Name: Round, Length: 216930, dtype: object\n",
      "ShowNumber\n",
      "AirDate\n",
      "Round\n",
      "Category\n",
      "Value\n",
      "Question\n",
      "Answer\n",
      "Show_number\n",
      "Air_date\n",
      "Round\n",
      "Category\n",
      "Value\n",
      "Question\n",
      "Answer\n"
     ]
    }
   ],
   "source": [
    "import pandas as pd\n",
    "pd.set_option('display.max_colwidth', None)\n",
    "dataset = pd.read_csv('jeopardy.csv')\n",
    "\n",
    "dataset.columns = dataset.columns.str.replace(' ', '')\n",
    "print(dataset['Round'])\n",
    "for col in dataset.columns:\n",
    "    print(col)\n",
    "dataset.set_axis(['Show_number', 'Air_date','Round', 'Category','Value','Question','Answer'], axis = 1, inplace = True)\n",
    "for col in dataset.columns:\n",
    "    print(col)"
   ]
  },
  {
   "cell_type": "markdown",
   "metadata": {},
   "source": [
    "2. Write a function that filters the dataset for questions that contains all of the words in a list of words. For example, when the list `[\"King\", \"England\"]` was passed to our function, the function returned a DataFrame of 49 rows. Every row had the strings `\"King\"` and `\"England\"` somewhere in its `\" Question\"`.\n",
    "\n",
    "   Test your function by printing out the column containing the question of each row of the dataset."
   ]
  },
  {
   "cell_type": "code",
   "execution_count": 431,
   "metadata": {},
   "outputs": [
    {
     "name": "stdout",
     "output_type": "stream",
     "text": [
      "\n",
      "        Show_number    Air_date             Round  \\\n",
      "6337           3517  1999-12-14  Double Jeopardy!   \n",
      "9191           3907  2001-09-04  Double Jeopardy!   \n",
      "13454          4726  2005-03-07         Jeopardy!   \n",
      "18076          3227  1998-09-22  Double Jeopardy!   \n",
      "19168          3109  1998-02-19         Jeopardy!   \n",
      "21511          4650  2004-11-19         Jeopardy!   \n",
      "23810          4862  2005-11-01         Jeopardy!   \n",
      "23979          4664  2004-12-09  Double Jeopardy!   \n",
      "26780          2118  1993-11-17  Double Jeopardy!   \n",
      "33174          1333  1990-05-23         Jeopardy!   \n",
      "49994          5499  2008-07-03         Jeopardy!   \n",
      "57479          4299  2003-04-17         Jeopardy!   \n",
      "58949          6250  2011-11-18  Double Jeopardy!   \n",
      "66520          5626  2009-02-09         Jeopardy!   \n",
      "72582          2754  1996-07-18  Double Jeopardy!   \n",
      "77195          3656  2000-06-26         Jeopardy!   \n",
      "78510          3169  1998-05-14  Double Jeopardy!   \n",
      "82525          2251  1994-05-23  Double Jeopardy!   \n",
      "86412          1837  1992-09-08  Double Jeopardy!   \n",
      "89710          5390  2008-02-01  Double Jeopardy!   \n",
      "90084          4871  2005-11-14         Jeopardy!   \n",
      "94425          3868  2001-05-30  Double Jeopardy!   \n",
      "95019          3662  2000-07-04  Double Jeopardy!   \n",
      "103704         2857  1997-01-21  Double Jeopardy!   \n",
      "115727         2585  1995-11-24  Double Jeopardy!   \n",
      "118809         1905  1992-12-11         Jeopardy!   \n",
      "127484         1325  1990-05-11  Double Jeopardy!   \n",
      "127758         6021  2010-11-15         Jeopardy!   \n",
      "137818         3368  1999-04-07         Jeopardy!   \n",
      "140080         3020  1997-10-17         Jeopardy!   \n",
      "140941         5557  2008-11-04  Double Jeopardy!   \n",
      "148910         3527  1999-12-28  Double Jeopardy!   \n",
      "150622         1150  1989-09-08  Double Jeopardy!   \n",
      "150880         4790  2005-06-03  Double Jeopardy!   \n",
      "151335         4289  2003-04-03         Jeopardy!   \n",
      "151746          314  1985-11-21         Jeopardy!   \n",
      "158120         4633  2004-10-27  Double Jeopardy!   \n",
      "159374         3789  2001-02-08  Double Jeopardy!   \n",
      "159378         3789  2001-02-08  Double Jeopardy!   \n",
      "167337         1312  1990-04-24  Double Jeopardy!   \n",
      "174055         2143  1993-12-22  Double Jeopardy!   \n",
      "175259         3055  1997-12-05  Double Jeopardy!   \n",
      "178590         3718  2000-11-01         Jeopardy!   \n",
      "178921         4573  2004-06-23         Jeopardy!   \n",
      "186239         5339  2007-11-22  Double Jeopardy!   \n",
      "190102         4211  2002-12-16         Jeopardy!   \n",
      "191531         5911  2010-05-03  Double Jeopardy!   \n",
      "195099         3590  2000-03-24  Double Jeopardy!   \n",
      "200369         2937  1997-05-13         Jeopardy!   \n",
      "208742         4863  2005-11-02  Double Jeopardy!   \n",
      "216021         1881  1992-11-09  Double Jeopardy!   \n",
      "\n",
      "                            Category   Value  \\\n",
      "6337                             Y1K    $800   \n",
      "9191                  WON THE BATTLE    $800   \n",
      "13454          A NUMBER FROM 1 TO 10   $1000   \n",
      "18076                  WORLD HISTORY   $1000   \n",
      "19168         HISTORIC WORLD LEADERS    $300   \n",
      "21511                     THE \"O.C.\"   $1000   \n",
      "23810                  NAME THE YEAR    $400   \n",
      "23979                 MEDIEVAL TIMES   $2000   \n",
      "26780                THE MIDDLE AGES  $1,200   \n",
      "33174                   THE CRUSADES    $200   \n",
      "49994                    REIGN DROPS   $1000   \n",
      "57479                FACTS & FIGURES    $800   \n",
      "58949            ASSUME THE POSITION   $2000   \n",
      "66520      THE FIRST MILLENNIUM A.D.   $1000   \n",
      "72582                        ROYALTY    $400   \n",
      "77195                        JUNE 26    $400   \n",
      "78510                A LONG TIME AGO    $800   \n",
      "82525                BRITISH HISTORY  $1,000   \n",
      "86412                        ROYALTY    $400   \n",
      "89710                 \"CAN\"NED WORDS   $1600   \n",
      "90084       THAT'S MY ROYAL NICKNAME    $400   \n",
      "94425           THE KINGS OF ENGLAND    $200   \n",
      "95019             CELEBRATING THE IV    $400   \n",
      "103704                        RULERS   $1000   \n",
      "115727                 WORLD HISTORY   $1000   \n",
      "118809                KINGS & QUEENS    $300   \n",
      "127484               MEDIEVAL PEOPLE    $600   \n",
      "127758                   STATE FACTS    $600   \n",
      "137818             PEOPLE IN HISTORY    $400   \n",
      "140080                 WORLD HISTORY    $200   \n",
      "140941          FOREIGN-BORN LEADERS   $2000   \n",
      "148910                  THE CRUSADES    $200   \n",
      "150622               BRITISH ROYALTY    $200   \n",
      "150880  20th CENTURY BRITISH HISTORY   $1200   \n",
      "151335                   LOTTO FEVER   $1000   \n",
      "151746                NURSERY RHYMES    $300   \n",
      "158120            POTENTATE POTABLES   $1200   \n",
      "159374           LONG LIVE THE KING!  $1,500   \n",
      "159378           LONG LIVE THE KING!    $800   \n",
      "167337                       ROYALTY  $2,000   \n",
      "174055               HISTORIC PEOPLE    $200   \n",
      "175259                     THE 1930s    $400   \n",
      "178590                       HISTORY    $500   \n",
      "178921                   RICHARD III    $200   \n",
      "186239              EUROPEAN HISTORY    $800   \n",
      "190102                THINK ABOUT IT    $800   \n",
      "191531        HE DIED A DEADLY DEATH    $400   \n",
      "195099              ENGLISH MONARCHS    $600   \n",
      "200369               BRITISH HISTORY    $200   \n",
      "208742                BEFORE & AFTER  $3,000   \n",
      "216021                HISTORIC NAMES   $1000   \n",
      "\n",
      "                                                                                                                           Question  \\\n",
      "6337                         In retaliation for Viking raids, this \"Unready\" king of England attacks Norse areas of the Isle of Man   \n",
      "9191                                       This king of England beat the odds to trounce the French in the 1415 Battle of Agincourt   \n",
      "13454                                                          It's the number that followed the last king of England named William   \n",
      "18076                               In 1199 this crusader king of England was mortally wounded while besieging the castle of Chalus   \n",
      "19168                                                     He was the only king of England to have \"The Great\" tacked on to his name   \n",
      "21511                                                  this man and his son ruled England following the execution of King Charles I   \n",
      "23810                          William the Conqueror was crowned King of England in Westminster Abbey on Christmas Day in this year   \n",
      "23979                                This \"unready\" king of England lost most of his country to Sven Forkbeard, the king of Denmark   \n",
      "26780                                                   This king of England was killed by a Norman arrow at the Battle of Hastings   \n",
      "33174                                                                        This king of England was a leader of the Third Crusade   \n",
      "49994                                        Elizabeth I's half-brother, he reigned before her as King of England from 1547 to 1553   \n",
      "57479                                                             He was the last of the 3 men who were king of England during 1066   \n",
      "58949                                         He became King of England in 1399 after forcing his cousin Richard II from the throne   \n",
      "66520                                This king called \"the Great\" beat the Danes in 886 to keep all of England from being conquered   \n",
      "72582                                   This current king of Jordan received part of his education in England at Harrow & Sandhurst   \n",
      "77195                           He became King of England on June 26, 1483; just over 2 years later he was killed at Bosworth Field   \n",
      "78510                           Henry II, who succeeded Stephen as king of England in 1154, was the first monarch from this \"house\"   \n",
      "82525                                                  The \"rump\" parliament wanted him to be the last king England would ever name   \n",
      "86412                                          This country's King Olaf V was born in England & was the grandson of King Edward VII   \n",
      "89710                             This 11th Century King of England also ruled Denmark & Norway during the latter part of his reign   \n",
      "90084                                                                    He was \"the Confessor\" king of England in the 11th century   \n",
      "94425                                                                         From 1714 to 1830 every king of England had this name   \n",
      "95019                             Regent for his predecessor from 1811 to 1820, he was king of England on his own from 1820 to 1830   \n",
      "103704                                                                      This king of England was the grandfather of Elizabeth I   \n",
      "115727                                                         In 1191, Berengaria married this king of England in Limassol, Cyprus   \n",
      "118809                                                             In French this King of England is called Guillaume le Conquerant   \n",
      "127484                                 Ethelred the Unready managed to lose most of England to King Sweyn Forkbeard of this country   \n",
      "127758                                                   This state was named for the King of England who reigned from 1727 to 1760   \n",
      "137818                                                         The last King William to rule England had this number after his name   \n",
      "140080                                       In 1191 this \"Lion-Hearted\" king of England captured Cyprus & Acre during the Crusades   \n",
      "140941            Dutch-born Protestant Prince William of Orange became king of England after this Catholic king was deposed & fled   \n",
      "148910                   On his way back from failing to take Jerusalem in 1192, this king of England was captured & later ransomed   \n",
      "150622                                                    The only king of England named Stephen was the grandson of this conqueror   \n",
      "150880                                                        During Stanley Baldwin's term as P.M., this King of England abdicated   \n",
      "151335                                 2000 saw a fight in England over running the lottery, with this Virgin king at the forefeont   \n",
      "151746                                           Colchester, England was named for this legendary Celtic king immortalized in rhyme   \n",
      "158120                This Dutch-born English king introduced gin to England as the \"pouring spirit\" in the palace at Hampton Court   \n",
      "159374                                                      A translation of the Bible is named for this king of England & Scotland   \n",
      "159378              This king divorced the Church of England from the Catholic Church so that he could divorce the first of 6 wives   \n",
      "167337                                                               The last Anglo-Saxon king of England was killed in this battle   \n",
      "174055                                                             This conqueror was crowned King of England on Christmas Day 1066   \n",
      "175259                                                                           His short reign as King of England fell in in 1936   \n",
      "178590                                     He succeeded Henry II as king of England in 1189 & was himself succeeded by John in 1199   \n",
      "178921                                                                 Richard was crowned king of England at this place of worship   \n",
      "186239            He was King of England from 1189 to 1199 but spent only 6 months there; the rest of the time, he was off fighting   \n",
      "190102                                                The man who became king of England in 1066 was succeeded by this king in 1087   \n",
      "191531  On Jan. 28, 1547, after a physical & mental decline, this king of England was (surprisingly) survived by his wife Catherine   \n",
      "195099                              In 1714 the Prince of Hanover, who spoke little English, became king of England under this name   \n",
      "200369              8th C. King Offa built a 170-mile north-south dike that still partly marks the border of England & this country   \n",
      "208742                                         Dutch-born king who ruled England jointly with Mary II & is a tasty New Zealand fish   \n",
      "216021                             His nickname was \"Bertie\", but he used this name & number when he became king of England in 1901   \n",
      "\n",
      "                                           Answer  floatx  floaty  floats  \n",
      "6337                                     Ethelred     800     800   800.0  \n",
      "9191                                      Henry V     800     800   800.0  \n",
      "13454                                           4    1000    1000  1000.0  \n",
      "18076                     Richard the Lionhearted    1000    1000  1000.0  \n",
      "19168                                      Alfred     300     300   300.0  \n",
      "21511                             Oliver Cromwell    1000    1000  1000.0  \n",
      "23810                                        1066     400     400   400.0  \n",
      "23979                       Aethelred the Unready    2000    2000  2000.0  \n",
      "26780                                   Harold II    1200    1200  1200.0  \n",
      "33174         Richard I (Richard the Lionhearted)     200     200   200.0  \n",
      "49994                                   Edward VI    1000    1000  1000.0  \n",
      "57479                       William the Conqueror     800     800   800.0  \n",
      "58949                                    Henry IV    2000    2000  2000.0  \n",
      "66520                                      Alfred    1000    1000  1000.0  \n",
      "72582                                King Hussein     400     400   400.0  \n",
      "77195                                 Richard III     400     400   400.0  \n",
      "78510                                 Plantagenet     800     800   800.0  \n",
      "82525                                   Charles I    1000    1000  1000.0  \n",
      "86412                                      Norway     400     400   400.0  \n",
      "89710                                      Canute    1600    1600  1600.0  \n",
      "90084                                      Edward     400     400   400.0  \n",
      "94425                                      George     200     200   200.0  \n",
      "95019                                   George IV     400     400   400.0  \n",
      "103704                                  Henry VII    1000    1000  1000.0  \n",
      "115727                      Richard the Lionheart    1000    1000  1000.0  \n",
      "118809                      William the Conqueror     300     300   300.0  \n",
      "127484                                    Denmark     600     600   600.0  \n",
      "127758                                    Georgia     600     600   600.0  \n",
      "137818                                         IV     400     400   400.0  \n",
      "140080                                  Richard I     200     200   200.0  \n",
      "140941                                   James II    2000    2000  2000.0  \n",
      "148910                    Richard the Lionhearted     200     200   200.0  \n",
      "150622                      William the Conqueror     200     200   200.0  \n",
      "150880                           King Edward VIII    1200    1200  1200.0  \n",
      "151335                            Richard Branson    1000    1000  1000.0  \n",
      "151746                              Old King Cole     300     300   300.0  \n",
      "158120                                William III    1200    1200  1200.0  \n",
      "159374                                  James (I)    1500    1500  1500.0  \n",
      "159378                                 Henry VIII     800     800   800.0  \n",
      "167337  Battle of Hastings (which Harold II lost)    2000    2000  2000.0  \n",
      "174055                                    William     200     200   200.0  \n",
      "175259                           King Edward VIII     400     400   400.0  \n",
      "178590                    Richard the Lionhearted     500     500   500.0  \n",
      "178921                          Westminster Abbey     200     200   200.0  \n",
      "186239                      Richard the Lionheart     800     800   800.0  \n",
      "190102                                 William II     800     800   800.0  \n",
      "191531                                 Henry VIII     400     400   400.0  \n",
      "195099                                   George I     600     600   600.0  \n",
      "200369                                      Wales     200     200   200.0  \n",
      "208742                   William of Orange roughy    3000    3000  3000.0  \n",
      "216021                                 Edward VII    1000    1000  1000.0  \n"
     ]
    }
   ],
   "source": [
    "print()\n",
    "\n",
    " \n",
    "def word_in_question(lst, data):\n",
    "    filtered = lambda x: all(i.lower() in x.lower() for i in lst)\n",
    "    return data[data['Question'].apply(filtered)]  \n",
    "\n",
    "print(word_in_question([\" King \", \" England \"], dataset))\n",
    "\n",
    "\n"
   ]
  },
  {
   "cell_type": "code",
   "execution_count": 432,
   "metadata": {},
   "outputs": [
    {
     "name": "stdout",
     "output_type": "stream",
     "text": [
      "771.8833850722094\n"
     ]
    }
   ],
   "source": [
    "#buitl-in float was assigned as a variable. to restore builtin: >> del float\n",
    "dataset['floatx'] = dataset['Value'].apply(lambda x: int((x.split('$')[-1]).replace(',','')) if x != 'None' else 0)\n",
    "\n",
    "dataset['floaty'] = dataset['Value'].apply(lambda x: int((x.replace('$', '')).replace(',','')) if x!= 'None' else 0)\n",
    "dataset[\"floats\"] = dataset[\"Value\"].apply(lambda x: float(x[1:].replace(',','')) if x!= \"None\" else 0)\n",
    "\n",
    "contains_king = word_in_question(['King'], dataset)\n",
    "print(contains_king['floats'].mean())\n"
   ]
  },
  {
   "cell_type": "markdown",
   "metadata": {},
   "source": [
    "3. Test your original function with a few different sets of words to try to find some ways your function breaks. Edit your function so it is more robust.\n",
    "\n",
    "   For example, think about capitalization. We probably want to find questions that contain the word `\"King\"` or `\"king\"`.\n",
    "   \n",
    "   You may also want to check to make sure you don't find rows that contain substrings of your given words. For example, our function found a question that didn't contain the word `\"king\"`, however it did contain the word `\"viking\"` &mdash; it found the `\"king\"` inside `\"viking\"`. Note that this also comes with some drawbacks &mdash; you would no longer find questions that contained words like `\"England's\"`."
   ]
  },
  {
   "cell_type": "markdown",
   "metadata": {},
   "source": [
    "4. We may want to eventually compute aggregate statistics, like `.mean()` on the `\" Value\"` column. But right now, the values in that column are strings. Convert the`\" Value\"` column to floats. If you'd like to, you can create a new column with float values.\n",
    "\n",
    "   Now that you can filter the dataset of question, use your new column that contains the float values of each question to find the \"difficulty\" of certain topics. For example, what is the average value of questions that contain the word `\"King\"`?\n",
    "   \n",
    "   Make sure to use the dataset that contains the float values as the dataset you use in your filtering function."
   ]
  },
  {
   "cell_type": "markdown",
   "metadata": {},
   "source": [
    "5. Write a function that returns the count of unique answers to all of the questions in a dataset. For example, after filtering the entire dataset to only questions containing the word `\"King\"`, we could then find all of the unique answers to those questions. The answer \"Henry VIII\" appeared 55 times and was the most common answer."
   ]
  },
  {
   "cell_type": "code",
   "execution_count": 435,
   "metadata": {},
   "outputs": [
    {
     "name": "stdout",
     "output_type": "stream",
     "text": [
      "Henry VIII                   55\n",
      "Solomon                      35\n",
      "Richard III                  33\n",
      "Louis XIV                    31\n",
      "David                        30\n",
      "                             ..\n",
      "cardiac (in card I acted)     1\n",
      "Henderson                     1\n",
      "Computer                      1\n",
      "Indians                       1\n",
      "work                          1\n",
      "Name: Answer, Length: 5268, dtype: int64\n"
     ]
    }
   ],
   "source": [
    "def count_unique_answer(data):\n",
    "    return data['Answer'].value_counts()\n",
    "print(count_unique_answer(word_in_question([\"King\"], dataset)))\n",
    "      \n"
   ]
  },
  {
   "cell_type": "markdown",
   "metadata": {},
   "source": [
    "6. Explore from here! This is an incredibly rich dataset, and there are so many interesting things to discover. There are a few columns that we haven't even started looking at yet. Here are some ideas on ways to continue working with this data:\n",
    "\n",
    " * Investigate the ways in which questions change over time by filtering by the date. How many questions from the 90s use the word `\"Computer\"` compared to questions from the 2000s?\n",
    " * Is there a connection between the round and the category? Are you more likely to find certain categories, like `\"Literature\"` in Single Jeopardy or Double Jeopardy?\n",
    " * Build a system to quiz yourself. Grab random questions, and use the <a href=\"https://docs.python.org/3/library/functions.html#input\">input</a> function to get a response from the user. Check to see if that response was right or wrong."
   ]
  },
  {
   "cell_type": "markdown",
   "metadata": {},
   "source": [
    "## Solution"
   ]
  },
  {
   "cell_type": "markdown",
   "metadata": {},
   "source": [
    "7. Compare your program to our <a href=\"https://content.codecademy.com/PRO/independent-practice-projects/jeopardy/jeopardy_solution.zip\">sample solution code</a> - remember, that your program might look different from ours (and probably will) and that's okay!"
   ]
  },
  {
   "cell_type": "markdown",
   "metadata": {},
   "source": [
    "8. Great work! Visit <a href=\"https://discuss.codecademy.com/t/this-is-jeopardy-challenge-project-python-pandas/462365\">our forums</a> to compare your project to our sample solution code. You can also learn how to host your own solution on GitHub so you can share it with other learners! Your solution might look different from ours, and that's okay! There are multiple ways to solve these projects, and you'll learn more by seeing others' code."
   ]
  },
  {
   "cell_type": "code",
   "execution_count": null,
   "metadata": {},
   "outputs": [],
   "source": []
  }
 ],
 "metadata": {
  "kernelspec": {
   "display_name": "Python 3 (ipykernel)",
   "language": "python",
   "name": "python3"
  },
  "language_info": {
   "codemirror_mode": {
    "name": "ipython",
    "version": 3
   },
   "file_extension": ".py",
   "mimetype": "text/x-python",
   "name": "python",
   "nbconvert_exporter": "python",
   "pygments_lexer": "ipython3",
   "version": "3.9.6"
  }
 },
 "nbformat": 4,
 "nbformat_minor": 2
}
