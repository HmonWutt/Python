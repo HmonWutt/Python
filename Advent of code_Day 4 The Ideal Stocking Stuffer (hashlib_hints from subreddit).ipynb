{
 "cells": [
  {
   "cell_type": "code",
   "execution_count": 1,
   "id": "75eb85a3",
   "metadata": {},
   "outputs": [],
   "source": [
    "import hashlib"
   ]
  },
  {
   "cell_type": "code",
   "execution_count": 43,
   "id": "dc445962",
   "metadata": {},
   "outputs": [
    {
     "name": "stdout",
     "output_type": "stream",
     "text": [
      "<class 'str'>\n"
     ]
    }
   ],
   "source": [
    "res = hashlib.md5(b'abcdef609043') \n",
    "c = 'abcdef609043'\n",
    "print(type(c))"
   ]
  },
  {
   "cell_type": "code",
   "execution_count": 62,
   "id": "280e33ac",
   "metadata": {},
   "outputs": [
    {
     "name": "stdout",
     "output_type": "stream",
     "text": [
      "9958218 00000094434e1914548b3a1af245fb27\n"
     ]
    }
   ],
   "source": [
    "\n",
    "\n",
    "increment = 0\n",
    "\n",
    "# start = hashlib.md5(b'iwrupvqb' + str(increment))\n",
    "start = \"\"\n",
    "t = ''\n",
    "while t[0:6] != \"000000\":\n",
    "    increment+=1\n",
    "    new = 'iwrupvqb{}'.format(increment)\n",
    "    start = hashlib.md5(bytes(new, 'utf-8'))\n",
    "    t = start.hexdigest()\n",
    "\n",
    "print(increment,t)\n",
    "              \n",
    "              \n",
    "    \n",
    "   \n",
    "\n"
   ]
  },
  {
   "cell_type": "code",
   "execution_count": null,
   "id": "e96b92c4",
   "metadata": {},
   "outputs": [],
   "source": [
    "not_allowed = [\"ab\", \"cd\", \"pq\", \"xy\"]\n",
    "if not_allowed in "
   ]
  }
 ],
 "metadata": {
  "kernelspec": {
   "display_name": "Python 3 (ipykernel)",
   "language": "python",
   "name": "python3"
  },
  "language_info": {
   "codemirror_mode": {
    "name": "ipython",
    "version": 3
   },
   "file_extension": ".py",
   "mimetype": "text/x-python",
   "name": "python",
   "nbconvert_exporter": "python",
   "pygments_lexer": "ipython3",
   "version": "3.9.6"
  }
 },
 "nbformat": 4,
 "nbformat_minor": 5
}
