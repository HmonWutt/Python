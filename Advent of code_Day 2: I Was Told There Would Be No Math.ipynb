{
 "cells": [
  {
   "cell_type": "code",
   "execution_count": 12,
   "id": "4e761526",
   "metadata": {},
   "outputs": [
    {
     "name": "stdout",
     "output_type": "stream",
     "text": [
      "env: AOC_SESSION=53616c7465645f5f49059f4a5c4159c843c84bbe8c7955cbf891ebc16bea3d3d905d07da111068b3092e19a3aa92bb829951cbc4263fdb4cecd12e120e064a3f\n"
     ]
    }
   ],
   "source": [
    "%env AOC_SESSION=53616c7465645f5f49059f4a5c4159c843c84bbe8c7955cbf891ebc16bea3d3d905d07da111068b3092e19a3aa92bb829951cbc4263fdb4cecd12e120e064a3f\n",
    "from aocd import get_data\n",
    "data = get_data(day=2, year=2015)\n",
    "\n",
    "data = data.split('\\n')"
   ]
  },
  {
   "cell_type": "code",
   "execution_count": null,
   "id": "fddf65d1",
   "metadata": {},
   "outputs": [],
   "source": []
  },
  {
   "cell_type": "code",
   "execution_count": 13,
   "id": "615b8f9f",
   "metadata": {},
   "outputs": [],
   "source": [
    "l = []\n",
    "h = []\n",
    "w = []\n",
    "for row in data:\n",
    "    try:\n",
    "        tup = row.split('x')\n",
    "        l.append(int(tup[0]))\n",
    "        h.append(int(tup[1]))\n",
    "        w.append(int(tup[2]))\n",
    "    except:\n",
    "        pass\n",
    "      \n",
    "    \n",
    "\n"
   ]
  },
  {
   "cell_type": "code",
   "execution_count": 14,
   "id": "adf02c9a",
   "metadata": {},
   "outputs": [
    {
     "name": "stdout",
     "output_type": "stream",
     "text": [
      "1586300\n",
      "3737498\n"
     ]
    }
   ],
   "source": [
    "lst = list(zip(l,h,w))\n",
    "total = 0\n",
    "ribbon_total = 0\n",
    "for i in lst:\n",
    "    le = i[0]\n",
    "    he = i[1]\n",
    "    we = i[2]\n",
    "    square = 2*(le*we) + 2*(we*he) + 2*(he*le)\n",
    "    slack_1 = [le,he,we]\n",
    "    biggest = max(slack_1)\n",
    "    slack_1.remove(biggest)\n",
    "    slack = slack_1[0]*slack_1[1]\n",
    "    t = square +slack\n",
    "    total +=t\n",
    "    wrap = 2*slack_1[0] + 2* slack_1[1]\n",
    "    bow = le*he*we\n",
    "    ribbon = wrap + bow\n",
    "    ribbon_total+=ribbon\n",
    "print(total)\n",
    "print(ribbon_total)\n",
    "    "
   ]
  },
  {
   "cell_type": "code",
   "execution_count": null,
   "id": "a27a9b83",
   "metadata": {},
   "outputs": [],
   "source": []
  }
 ],
 "metadata": {
  "kernelspec": {
   "display_name": "Python 3.9.6 64-bit",
   "language": "python",
   "name": "python3"
  },
  "language_info": {
   "codemirror_mode": {
    "name": "ipython",
    "version": 3
   },
   "file_extension": ".py",
   "mimetype": "text/x-python",
   "name": "python",
   "nbconvert_exporter": "python",
   "pygments_lexer": "ipython3",
   "version": "3.9.6"
  },
  "vscode": {
   "interpreter": {
    "hash": "aee8b7b246df8f9039afb4144a1f6fd8d2ca17a180786b69acc140d282b71a49"
   }
  }
 },
 "nbformat": 4,
 "nbformat_minor": 5
}
