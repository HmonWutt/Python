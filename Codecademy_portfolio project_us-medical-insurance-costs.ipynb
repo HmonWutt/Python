{
 "cells": [
  {
   "cell_type": "markdown",
   "metadata": {},
   "source": [
    "# U.S. Medical Insurance Costs"
   ]
  },
  {
   "cell_type": "code",
   "execution_count": 2,
   "metadata": {
    "scrolled": true
   },
   "outputs": [
    {
     "name": "stdout",
     "output_type": "stream",
     "text": [
      "      age     sex     bmi  children smoker     region      charges\n",
      "0      19  female  27.900         0    yes  southwest  16884.92400\n",
      "1      18    male  33.770         1     no  southeast   1725.55230\n",
      "2      28    male  33.000         3     no  southeast   4449.46200\n",
      "3      33    male  22.705         0     no  northwest  21984.47061\n",
      "4      32    male  28.880         0     no  northwest   3866.85520\n",
      "...   ...     ...     ...       ...    ...        ...          ...\n",
      "1333   50    male  30.970         3     no  northwest  10600.54830\n",
      "1334   18  female  31.920         0     no  northeast   2205.98080\n",
      "1335   18  female  36.850         0     no  southeast   1629.83350\n",
      "1336   21  female  25.800         0     no  southwest   2007.94500\n",
      "1337   61  female  29.070         0    yes  northwest  29141.36030\n",
      "\n",
      "[1338 rows x 7 columns]\n"
     ]
    }
   ],
   "source": [
    "import pandas as pd\n",
    "\n",
    "df = pd.read_csv (r'/Users/wutthmon/Desktop/Coding/python-portfolio-project-starter-files/insurance.csv')\n",
    "print (df)"
   ]
  },
  {
   "cell_type": "code",
   "execution_count": 4,
   "metadata": {},
   "outputs": [
    {
     "name": "stdout",
     "output_type": "stream",
     "text": [
      "25\n"
     ]
    }
   ],
   "source": [
    "age = df.age\n",
    "sex = df.sex\n",
    "bmi = df.bmi\n",
    "child = df.children\n",
    "smoker = df.smoker\n",
    "region = df.region\n",
    "cost = df.charges\n",
    "print(age[10])\n"
   ]
  },
  {
   "cell_type": "code",
   "execution_count": null,
   "metadata": {},
   "outputs": [],
   "source": [
    "#questions\n",
    "#1) average insurance cost for men and women (child/no child,smoker/non-smoker grouped by differnt regions)\n",
    "#2) average BMI and one SD above and below\n",
    "#4) highest and lowest insurance cost (look at region, age, sex, child, smoker)\n"
   ]
  },
  {
   "cell_type": "code",
   "execution_count": 52,
   "metadata": {},
   "outputs": [
    {
     "name": "stdout",
     "output_type": "stream",
     "text": [
      "Person-11:\n",
      "Age: 62\n",
      "Sex: female\n",
      "BMI: 26.29\n",
      "Number of children: 0\n",
      "Smoker: yes\n",
      "Region: southeast\n",
      "Insurance cost: 27808.7251\n"
     ]
    }
   ],
   "source": [
    "#case number will be the index of the dataset; all relevant data for that case can be accessed just by the index\n",
    "\n",
    "class Case:\n",
    "    def __init__(self,id):\n",
    "        self.id = id\n",
    "        id = id\n",
    "   # def __init__(self, age,sex,bmi,child,smoker,region,cost):\n",
    "        self.age = age[id]\n",
    "        self.sex = sex[id]\n",
    "        if sex[id]==1:\n",
    "            self.sex = \"male\"\n",
    "        else:\n",
    "            self.sex = \"female\"\n",
    "        self.bmi = bmi[id]\n",
    "        self.child= child[id]\n",
    "        self.smoker = smoker[id]\n",
    "        self.region=region[id]\n",
    "        self.cost = cost[id]\n",
    "   \n",
    "    def __repr__(self):\n",
    "        return f\"Person-{self.id}:\\nAge: {self.age}\\nSex: {self.sex}\\nBMI: {self.bmi}\\nNumber of children: {self.child}\\nSmoker: {self.smoker}\\nRegion: {self.region}\\nInsurance cost: {self.cost}\"\n",
    "print(Case(11))\n",
    "   "
   ]
  },
  {
   "cell_type": "code",
   "execution_count": 73,
   "metadata": {},
   "outputs": [
    {
     "name": "stdout",
     "output_type": "stream",
     "text": [
      "\n",
      "\n",
      "69\n"
     ]
    }
   ],
   "source": [
    "\n",
    "#create age as a list\n",
    "df_age = list(df.age)\n",
    "#count the number of people for each age\n",
    "from collections import Counter\n",
    "age_dict = Counter(df_age)\n",
    "#look at the number of only one age \n",
    "print('\\n')#new line\n",
    "print(age_dict[18])#number of 18 year olds\n"
   ]
  },
  {
   "cell_type": "code",
   "execution_count": 118,
   "metadata": {},
   "outputs": [
    {
     "name": "stdout",
     "output_type": "stream",
     "text": [
      "['southwest' 'southeast' 'northwest' 'northeast']\n",
      "Counter({'female': 12, 'male': 9})\n",
      "\n",
      "\n",
      "Average insurance cost for an 18 year old non-smoker female with no children in the northwest region:\n",
      "\n",
      "4227.596880749999\n",
      "\n",
      "\n",
      "Average insurance cost for an 18 year old non-smoker male with no children in the northwest region:\n",
      "\n",
      "2947.9284722222224\n"
     ]
    }
   ],
   "source": [
    "#check if males and females are equally represented\n",
    "print(df.region.unique())\n",
    "print(Counter(df.sex[(df.children == 0) & (df.smoker == 'no')&(df.age == 18)& (df.region=='northeast')]))\n",
    "#check averages\n",
    "# Importing the statistics module\n",
    "print('\\n')\n",
    "import statistics as stat\n",
    "print(f\"Average insurance cost for an 18 year old non-smoker female with no children in the northwest region:\\n\\n{stat.mean(df.charges[(df.sex == 'female')&(df.children == 0) & (df.smoker == 'no')&(df.age == 18)& (df.region=='northeast')])}\")\n",
    "print('\\n')\n",
    "print(f\"Average insurance cost for an 18 year old non-smoker male with no children in the northwest region:\\n\\n{stat.mean(df.charges[(df.sex == 'male')&(df.children == 0) & (df.smoker == 'no')&(df.age == 18)& (df.region=='northeast')])}\")\n",
    "\n"
   ]
  },
  {
   "cell_type": "code",
   "execution_count": 144,
   "metadata": {},
   "outputs": [
    {
     "name": "stdout",
     "output_type": "stream",
     "text": [
      "Male: mean BMI is 30.943128698224854 and SD is 6.140434615792243\n",
      "Female: mean BMI is 30.37774924471299 and SD is 6.046023085745335\n",
      "Average female: 7377.0765675\n",
      "Average male: 5992.560455555556\n"
     ]
    }
   ],
   "source": [
    "average_bmi_male = stat.mean(df.bmi[df.sex == 'male'])\n",
    "sd_male = stat.stdev(df.bmi[df.sex == 'male'])\n",
    "average_bmi_female = stat.mean(df.bmi[df.sex == 'female'])\n",
    "sd_female = stat.stdev(df.bmi[df.sex == 'female'])\n",
    "print(f\"Male: mean BMI is {average_bmi_male} and SD is {sd_male}\")\n",
    "print(f\"Female: mean BMI is {average_bmi_female} and SD is {sd_female}\")\n",
    "#average male and female (average BMI +- 1 SD)\n",
    "print(f\"Average female: {stat.mean(df.charges[(df.children == 0) & (df.smoker == 'no')& (df.region=='southeast')&(df.sex == 'female') &(df.bmi >=24) & (df.bmi <=36)])}\")\n",
    "print(f\"Average male: {stat.mean(df.charges[(df.children == 0) & (df.smoker == 'no')& (df.region=='southeast')&(df.sex == 'male')&(df.bmi >=24) & (df.bmi <=36)])}\")\n"
   ]
  }
 ],
 "metadata": {
  "kernelspec": {
   "display_name": "Python 3 (ipykernel)",
   "language": "python",
   "name": "python3"
  },
  "language_info": {
   "codemirror_mode": {
    "name": "ipython",
    "version": 3
   },
   "file_extension": ".py",
   "mimetype": "text/x-python",
   "name": "python",
   "nbconvert_exporter": "python",
   "pygments_lexer": "ipython3",
   "version": "3.9.6"
  }
 },
 "nbformat": 4,
 "nbformat_minor": 4
}
